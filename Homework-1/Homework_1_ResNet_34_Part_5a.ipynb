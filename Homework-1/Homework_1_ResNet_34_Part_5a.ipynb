{
  "nbformat": 4,
  "nbformat_minor": 0,
  "metadata": {
    "colab": {
      "provenance": [],
      "gpuType": "T4"
    },
    "kernelspec": {
      "name": "python3",
      "display_name": "Python 3"
    },
    "language_info": {
      "name": "python"
    },
    "accelerator": "GPU"
  },
  "cells": [
    {
      "cell_type": "code",
      "execution_count": 1,
      "metadata": {
        "id": "SP_Lz5UIVPEa"
      },
      "outputs": [],
      "source": [
        "import time\n",
        "import numpy as np\n",
        "import torch\n",
        "from torch.utils.data import DataLoader\n",
        "from torchvision import datasets\n",
        "from torchvision import transforms"
      ]
    },
    {
      "cell_type": "code",
      "source": [
        "device = torch.device(\"cuda:0\" if torch.cuda.is_available() else \"cpu\")\n",
        "\n",
        "# Hyperparameters\n",
        "random_seed = 123\n",
        "learning_rate = 0.01\n",
        "num_epochs = 10\n",
        "batch_size = 128\n",
        "\n",
        "# Architecture\n",
        "num_classes = 10"
      ],
      "metadata": {
        "id": "uukJXkWmVv9_"
      },
      "execution_count": 2,
      "outputs": []
    },
    {
      "cell_type": "code",
      "source": [
        "train_dataset = datasets.MNIST(root='data',\n",
        "                               train=True,\n",
        "                               transform=transforms.ToTensor(),\n",
        "                               download=True)\n",
        "\n",
        "test_dataset = datasets.MNIST(root='data',\n",
        "                              train=False,\n",
        "                              transform=transforms.ToTensor())\n",
        "\n",
        "\n",
        "train_loader = DataLoader(dataset=train_dataset,\n",
        "                          batch_size=batch_size,\n",
        "                          shuffle=True)\n",
        "\n",
        "test_loader = DataLoader(dataset=test_dataset,\n",
        "                         batch_size=batch_size,\n",
        "                         shuffle=False)\n",
        "\n",
        "# Checking the dataset\n",
        "for images, labels in train_loader:\n",
        "    print('Image batch dimensions:', images.shape)\n",
        "    print('Image label dimensions:', labels.shape)\n",
        "    break"
      ],
      "metadata": {
        "colab": {
          "base_uri": "https://localhost:8080/"
        },
        "id": "DmwEkMsUVwAN",
        "outputId": "682be9dd-0db4-45be-a105-928e2a8686c0"
      },
      "execution_count": 3,
      "outputs": [
        {
          "output_type": "stream",
          "name": "stdout",
          "text": [
            "Downloading http://yann.lecun.com/exdb/mnist/train-images-idx3-ubyte.gz\n",
            "Failed to download (trying next):\n",
            "HTTP Error 403: Forbidden\n",
            "\n",
            "Downloading https://ossci-datasets.s3.amazonaws.com/mnist/train-images-idx3-ubyte.gz\n",
            "Downloading https://ossci-datasets.s3.amazonaws.com/mnist/train-images-idx3-ubyte.gz to data/MNIST/raw/train-images-idx3-ubyte.gz\n"
          ]
        },
        {
          "output_type": "stream",
          "name": "stderr",
          "text": [
            "100%|██████████| 9.91M/9.91M [00:00<00:00, 16.3MB/s]\n"
          ]
        },
        {
          "output_type": "stream",
          "name": "stdout",
          "text": [
            "Extracting data/MNIST/raw/train-images-idx3-ubyte.gz to data/MNIST/raw\n",
            "\n",
            "Downloading http://yann.lecun.com/exdb/mnist/train-labels-idx1-ubyte.gz\n",
            "Failed to download (trying next):\n",
            "HTTP Error 403: Forbidden\n",
            "\n",
            "Downloading https://ossci-datasets.s3.amazonaws.com/mnist/train-labels-idx1-ubyte.gz\n",
            "Downloading https://ossci-datasets.s3.amazonaws.com/mnist/train-labels-idx1-ubyte.gz to data/MNIST/raw/train-labels-idx1-ubyte.gz\n"
          ]
        },
        {
          "output_type": "stream",
          "name": "stderr",
          "text": [
            "100%|██████████| 28.9k/28.9k [00:00<00:00, 489kB/s]\n"
          ]
        },
        {
          "output_type": "stream",
          "name": "stdout",
          "text": [
            "Extracting data/MNIST/raw/train-labels-idx1-ubyte.gz to data/MNIST/raw\n",
            "\n",
            "Downloading http://yann.lecun.com/exdb/mnist/t10k-images-idx3-ubyte.gz\n",
            "Failed to download (trying next):\n",
            "HTTP Error 403: Forbidden\n",
            "\n",
            "Downloading https://ossci-datasets.s3.amazonaws.com/mnist/t10k-images-idx3-ubyte.gz\n",
            "Downloading https://ossci-datasets.s3.amazonaws.com/mnist/t10k-images-idx3-ubyte.gz to data/MNIST/raw/t10k-images-idx3-ubyte.gz\n"
          ]
        },
        {
          "output_type": "stream",
          "name": "stderr",
          "text": [
            "100%|██████████| 1.65M/1.65M [00:00<00:00, 4.48MB/s]\n"
          ]
        },
        {
          "output_type": "stream",
          "name": "stdout",
          "text": [
            "Extracting data/MNIST/raw/t10k-images-idx3-ubyte.gz to data/MNIST/raw\n",
            "\n",
            "Downloading http://yann.lecun.com/exdb/mnist/t10k-labels-idx1-ubyte.gz\n",
            "Failed to download (trying next):\n",
            "HTTP Error 403: Forbidden\n",
            "\n",
            "Downloading https://ossci-datasets.s3.amazonaws.com/mnist/t10k-labels-idx1-ubyte.gz\n",
            "Downloading https://ossci-datasets.s3.amazonaws.com/mnist/t10k-labels-idx1-ubyte.gz to data/MNIST/raw/t10k-labels-idx1-ubyte.gz\n"
          ]
        },
        {
          "output_type": "stream",
          "name": "stderr",
          "text": [
            "100%|██████████| 4.54k/4.54k [00:00<00:00, 10.6MB/s]"
          ]
        },
        {
          "output_type": "stream",
          "name": "stdout",
          "text": [
            "Extracting data/MNIST/raw/t10k-labels-idx1-ubyte.gz to data/MNIST/raw\n",
            "\n",
            "Image batch dimensions: torch.Size([128, 1, 28, 28])\n",
            "Image label dimensions: torch.Size([128])\n"
          ]
        },
        {
          "output_type": "stream",
          "name": "stderr",
          "text": [
            "\n"
          ]
        }
      ]
    },
    {
      "cell_type": "code",
      "source": [
        "class ConvNet(torch.nn.Module):\n",
        "\n",
        "    def __init__(self, num_classes):\n",
        "        super(ConvNet, self).__init__()\n",
        "\n",
        "        self.block_1 = torch.nn.Sequential(\n",
        "                torch.nn.Conv2d(in_channels=1,\n",
        "                                out_channels=4,\n",
        "                                kernel_size=(1, 1),\n",
        "                                stride=(1, 1),\n",
        "                                padding=0),\n",
        "                torch.nn.BatchNorm2d(4),\n",
        "                torch.nn.ReLU(inplace=True),\n",
        "                torch.nn.Conv2d(in_channels=4,\n",
        "                                out_channels=1,\n",
        "                                kernel_size=(3, 3),\n",
        "                                stride=(1, 1),\n",
        "                                padding=1),\n",
        "                torch.nn.BatchNorm2d(1)\n",
        "        )\n",
        "\n",
        "        self.block_2 = torch.nn.Sequential(\n",
        "                torch.nn.Conv2d(in_channels=1,\n",
        "                                out_channels=4,\n",
        "                                kernel_size=(1, 1),\n",
        "                                stride=(1, 1),\n",
        "                                padding=0),\n",
        "                torch.nn.BatchNorm2d(4),\n",
        "                torch.nn.ReLU(inplace=True),\n",
        "                torch.nn.Conv2d(in_channels=4,\n",
        "                                out_channels=1,\n",
        "                                kernel_size=(3, 3),\n",
        "                                stride=(1, 1),\n",
        "                                padding=1),\n",
        "                torch.nn.BatchNorm2d(1)\n",
        "        )\n",
        "\n",
        "        self.linear_1 = torch.nn.Linear(1*28*28, num_classes)\n",
        "\n",
        "\n",
        "    def forward(self, x):\n",
        "\n",
        "        shortcut = x\n",
        "        x = self.block_1(x)\n",
        "        x = torch.nn.functional.relu(x + shortcut)\n",
        "\n",
        "\n",
        "        shortcut = x\n",
        "        x = self.block_2(x)\n",
        "        x = torch.nn.functional.relu(x + shortcut)\n",
        "\n",
        "        logits = self.linear_1(x.view(-1,  1*28*28))\n",
        "        return logits\n",
        "\n",
        "\n",
        "torch.manual_seed(random_seed)\n",
        "model = ConvNet(num_classes=num_classes)\n",
        "model = model.to(device)\n",
        "\n",
        "optimizer = torch.optim.Adam(model.parameters(), lr=learning_rate)"
      ],
      "metadata": {
        "id": "UVhZtqBDVwCq"
      },
      "execution_count": 4,
      "outputs": []
    },
    {
      "cell_type": "code",
      "source": [
        "def compute_accuracy(model, data_loader):\n",
        "    correct_pred, num_examples = 0, 0\n",
        "    for i, (features, targets) in enumerate(data_loader):\n",
        "        features = features.to(device)\n",
        "        targets = targets.to(device)\n",
        "        logits = model(features)\n",
        "        _, predicted_labels = torch.max(logits, 1)\n",
        "        num_examples += targets.size(0)\n",
        "        correct_pred += (predicted_labels == targets).sum()\n",
        "    return correct_pred.float()/num_examples * 100"
      ],
      "metadata": {
        "id": "E09P9NRVVwFS"
      },
      "execution_count": 5,
      "outputs": []
    },
    {
      "cell_type": "code",
      "source": [
        "\n",
        "start_time = time.time()\n",
        "for epoch in range(num_epochs):\n",
        "    model = model.train()\n",
        "    for batch_idx, (features, targets) in enumerate(train_loader):\n",
        "\n",
        "        features = features.to(device)\n",
        "        targets = targets.to(device)\n",
        "\n",
        "        ### FORWARD AND BACK PROP\n",
        "        logits = model(features)\n",
        "        cost = torch.nn.functional.cross_entropy(logits, targets)\n",
        "        optimizer.zero_grad()\n",
        "\n",
        "        cost.backward()\n",
        "\n",
        "        ### UPDATE MODEL PARAMETERS\n",
        "        optimizer.step()\n",
        "\n",
        "        ### LOGGING\n",
        "        if not batch_idx % 250:\n",
        "            print ('Epoch: %03d/%03d | Batch %03d/%03d | Cost: %.4f'\n",
        "                   %(epoch+1, num_epochs, batch_idx,\n",
        "                     len(train_loader), cost))\n",
        "\n",
        "    model = model.eval() # eval mode to prevent upd. batchnorm params during inference\n",
        "    with torch.set_grad_enabled(False): # save memory during inference\n",
        "        print('Epoch: %03d/%03d training accuracy: %.2f%%' % (\n",
        "              epoch+1, num_epochs,\n",
        "              compute_accuracy(model, train_loader)))\n",
        "\n",
        "    print('Time elapsed: %.2f min' % ((time.time() - start_time)/60))\n",
        "\n",
        "print('Total Training Time: %.2f min' % ((time.time() - start_time)/60))"
      ],
      "metadata": {
        "colab": {
          "base_uri": "https://localhost:8080/"
        },
        "id": "hwANahy_VwHo",
        "outputId": "99dc204e-834a-4989-9c64-e0576d29a37d"
      },
      "execution_count": 6,
      "outputs": [
        {
          "output_type": "stream",
          "name": "stdout",
          "text": [
            "Epoch: 001/010 | Batch 000/469 | Cost: 2.6800\n",
            "Epoch: 001/010 | Batch 250/469 | Cost: 0.3122\n",
            "Epoch: 001/010 training accuracy: 91.42%\n",
            "Time elapsed: 0.29 min\n",
            "Epoch: 002/010 | Batch 000/469 | Cost: 0.3250\n",
            "Epoch: 002/010 | Batch 250/469 | Cost: 0.2086\n",
            "Epoch: 002/010 training accuracy: 91.83%\n",
            "Time elapsed: 0.53 min\n",
            "Epoch: 003/010 | Batch 000/469 | Cost: 0.2090\n",
            "Epoch: 003/010 | Batch 250/469 | Cost: 0.2803\n",
            "Epoch: 003/010 training accuracy: 92.40%\n",
            "Time elapsed: 0.76 min\n",
            "Epoch: 004/010 | Batch 000/469 | Cost: 0.2816\n",
            "Epoch: 004/010 | Batch 250/469 | Cost: 0.2981\n",
            "Epoch: 004/010 training accuracy: 92.84%\n",
            "Time elapsed: 0.99 min\n",
            "Epoch: 005/010 | Batch 000/469 | Cost: 0.3553\n",
            "Epoch: 005/010 | Batch 250/469 | Cost: 0.2754\n",
            "Epoch: 005/010 training accuracy: 93.01%\n",
            "Time elapsed: 1.22 min\n",
            "Epoch: 006/010 | Batch 000/469 | Cost: 0.2594\n",
            "Epoch: 006/010 | Batch 250/469 | Cost: 0.2303\n",
            "Epoch: 006/010 training accuracy: 93.00%\n",
            "Time elapsed: 1.45 min\n",
            "Epoch: 007/010 | Batch 000/469 | Cost: 0.2148\n",
            "Epoch: 007/010 | Batch 250/469 | Cost: 0.1520\n",
            "Epoch: 007/010 training accuracy: 92.32%\n",
            "Time elapsed: 1.70 min\n",
            "Epoch: 008/010 | Batch 000/469 | Cost: 0.3869\n",
            "Epoch: 008/010 | Batch 250/469 | Cost: 0.3037\n",
            "Epoch: 008/010 training accuracy: 88.86%\n",
            "Time elapsed: 1.93 min\n",
            "Epoch: 009/010 | Batch 000/469 | Cost: 0.2282\n",
            "Epoch: 009/010 | Batch 250/469 | Cost: 0.1700\n",
            "Epoch: 009/010 training accuracy: 93.78%\n",
            "Time elapsed: 2.15 min\n",
            "Epoch: 010/010 | Batch 000/469 | Cost: 0.1429\n",
            "Epoch: 010/010 | Batch 250/469 | Cost: 0.3165\n",
            "Epoch: 010/010 training accuracy: 93.44%\n",
            "Time elapsed: 2.38 min\n",
            "Total Training Time: 2.38 min\n"
          ]
        }
      ]
    },
    {
      "cell_type": "code",
      "source": [
        "print('Test accuracy: %.2f%%' % (compute_accuracy(model, test_loader)))"
      ],
      "metadata": {
        "colab": {
          "base_uri": "https://localhost:8080/"
        },
        "id": "Ke5YTWIbVwJ4",
        "outputId": "6a214f71-b6aa-418e-88a2-5d282d73a074"
      },
      "execution_count": 7,
      "outputs": [
        {
          "output_type": "stream",
          "name": "stdout",
          "text": [
            "Test accuracy: 92.29%\n"
          ]
        }
      ]
    },
    {
      "cell_type": "code",
      "source": [],
      "metadata": {
        "id": "sxbSiIbKVwMg"
      },
      "execution_count": null,
      "outputs": []
    },
    {
      "cell_type": "code",
      "source": [],
      "metadata": {
        "id": "JtkYYnNeVwOv"
      },
      "execution_count": null,
      "outputs": []
    }
  ]
}